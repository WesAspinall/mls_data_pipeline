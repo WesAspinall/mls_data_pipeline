{
 "cells": [
  {
   "cell_type": "code",
   "execution_count": null,
   "metadata": {},
   "outputs": [],
   "source": [
    "# For all matches in 2025 from the all_matches table, get the match ids\n",
    "\n",
    "# each week, get the match details for each match id from \n",
    "# https://sportapi.mlssoccer.com/api/matches/2245774 <-- match id"
   ]
  }
 ],
 "metadata": {
  "language_info": {
   "name": "python"
  }
 },
 "nbformat": 4,
 "nbformat_minor": 2
}
