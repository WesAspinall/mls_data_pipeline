{
 "cells": [
  {
   "cell_type": "code",
   "execution_count": null,
   "metadata": {},
   "outputs": [],
   "source": [
    "import requests\n",
    "import polars as pl"
   ]
  },
  {
   "cell_type": "code",
   "execution_count": null,
   "metadata": {},
   "outputs": [],
   "source": [
    "# This url DOES NOT have match results\n",
    "# We don't want to be pulling data from this all the time\n",
    "# because it is a lot of data and it is not needed\n",
    "# The idea is to store this in an olap and pull analysis to display in a UI\n",
    "url = 'https://sportapi.mlssoccer.com/api/matches?competition=98&excludeSecondaryTeams=true&excludeVenue=false'\n",
    "\n",
    "\n",
    "def get_matches():\n",
    "    \"\"\"Get the list of matches from the MLS API.\"\"\"\n",
    "    response = requests.get(url)\n",
    "    if response.status_code != 200:\n",
    "        raise Exception(f\"Failed to fetch data: {response.status_code}\")\n",
    "    return response.json()\n",
    "\n",
    "data = get_matches()\n",
    "    "
   ]
  },
  {
   "cell_type": "code",
   "execution_count": null,
   "metadata": {},
   "outputs": [],
   "source": [
    "# Flatten the nested dictionary and rename columns to avoid conflicts\n",
    "match_data = []\n",
    "dim_teams = []\n",
    "\n",
    "\n",
    "for item in data:\n",
    "    match = {\n",
    "        'Match_SK': item['optaId'],\n",
    "        'HomeTeamKey': item['home']['optaId'],\n",
    "        'AwayTeamKey': item['away']['optaId'],\n",
    "        'VenueKey': item['venue']['venueSportecId'],\n",
    "        'SeasonKey': item['season']['slug'],\n",
    "        'CompetitionKey': item['season']['competitionId'],\n",
    "        'Match_DateTime': item['matchDate'],\n",
    "        'isDelayed': item['delayedMatch'],\n",
    "        'MatchDay': item['matchDay']\n",
    "    }\n",
    "    \n",
    "    team_home = {\n",
    "        'Team_SK': item['home']['optaId'],\n",
    "        'TeamName': item['home']['fullName'],\n",
    "        'TeamAbbreviation': item['home']['abbreviation'],\n",
    "        'TeamLogo': item['home']['logoColorUrl'].replace('{formatInstructions}', 'w_200')\n",
    "    }\n",
    "    \n",
    "    team_away = {\n",
    "        'Team_SK': item['away']['optaId'],\n",
    "        'TeamName': item['away']['fullName'],\n",
    "        'TeamAbbreviation': item['away']['abbreviation'],\n",
    "        'TeamLogo': item['away']['logoColorUrl'].replace('{formatInstructions}', 'w_200')\n",
    "    }\n",
    "    \n",
    "    match_data.append(match)\n",
    "    dim_teams.append(team_home)\n",
    "    dim_teams.append(team_away)\n",
    "    \n",
    "\n",
    "\n"
   ]
  },
  {
   "cell_type": "markdown",
   "metadata": {},
   "source": [
    "### Matches"
   ]
  },
  {
   "cell_type": "code",
   "execution_count": null,
   "metadata": {},
   "outputs": [],
   "source": [
    "fct_match = pl.DataFrame(match_data)\n",
    "fct_match = fct_match.with_columns(pl.col(\"Match_DateTime\").str.strptime(pl.Datetime, \"%Y-%m-%dT%H:%M:%S.%fZ\"))\n"
   ]
  },
  {
   "cell_type": "markdown",
   "metadata": {},
   "source": [
    "### Dim Teams"
   ]
  },
  {
   "cell_type": "code",
   "execution_count": null,
   "metadata": {},
   "outputs": [],
   "source": [
    "# Deduplicate the list of dictionaries based on 'Team_SK'\n",
    "dim_teams = list({team['Team_SK']: team for team in dim_teams}.values())\n",
    "\n",
    "dim_teams"
   ]
  },
  {
   "cell_type": "code",
   "execution_count": null,
   "metadata": {},
   "outputs": [],
   "source": []
  }
 ],
 "metadata": {
  "kernelspec": {
   "display_name": "env",
   "language": "python",
   "name": "python3"
  },
  "language_info": {
   "codemirror_mode": {
    "name": "ipython",
    "version": 3
   },
   "file_extension": ".py",
   "mimetype": "text/x-python",
   "name": "python",
   "nbconvert_exporter": "python",
   "pygments_lexer": "ipython3",
   "version": "3.11.11"
  }
 },
 "nbformat": 4,
 "nbformat_minor": 2
}
