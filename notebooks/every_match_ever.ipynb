{
 "cells": [
  {
   "cell_type": "code",
   "execution_count": 1,
   "metadata": {},
   "outputs": [],
   "source": [
    "import requests"
   ]
  },
  {
   "cell_type": "code",
   "execution_count": null,
   "metadata": {},
   "outputs": [],
   "source": [
    "# This url DOES NOT have match results\n",
    "# We don't want to be pulling data from this all the time\n",
    "# because it is a lot of data and it is not needed\n",
    "# The idea is to store this in an olap and pull analysis to display in a UI\n",
    "url = 'https://sportapi.mlssoccer.com/api/matches?competition=98&excludeSecondaryTeams=true&excludeVenue=false'\n",
    "\n",
    "\n",
    "def get_matches():\n",
    "    \"\"\"Get the list of matches from the MLS API.\"\"\"\n",
    "    response = requests.get(url)\n",
    "    if response.status_code != 200:\n",
    "        raise Exception(f\"Failed to fetch data: {response.status_code}\")\n",
    "    return response.json()\n",
    "\n",
    "data = get_matches()\n",
    "    "
   ]
  },
  {
   "cell_type": "code",
   "execution_count": null,
   "metadata": {},
   "outputs": [
    {
     "data": {
      "text/plain": [
       "{'optaId': 289018051,\n",
       " 'sportecId': 'MLS-MAT-00067N',\n",
       " 'slug': 'vanvsdal-10-18-2025',\n",
       " 'leagueMatchTitle': '',\n",
       " 'home': {'optaId': 1708,\n",
       "  'sportecId': 'MLS-CLU-00000C',\n",
       "  'fullName': 'Vancouver Whitecaps FC',\n",
       "  'slug': 'vancouver-whitecaps-fc',\n",
       "  'shortName': 'Vancouver',\n",
       "  'abbreviation': 'VAN',\n",
       "  'backgroundColor': '#002244',\n",
       "  'logoBWSlug': 'webcomp_32b98038-9825-4376-9484-c46a4443394f',\n",
       "  'logoColorSlug': 'webcomp_cb5dfcb6-1002-4510-b279-0c108d8401d9',\n",
       "  'logoColorUrl': 'https://images.mlssoccer.com/image/upload/{formatInstructions}/v1614970751/assets/logos/1708-vancouver-logo_znac8n.png',\n",
       "  'crestColorSlug': 'webcomp_47dd04e2-186b-4ef0-a2e7-b2e5050e265e'},\n",
       " 'away': {'optaId': 1903,\n",
       "  'sportecId': 'MLS-CLU-000005',\n",
       "  'fullName': 'FC Dallas',\n",
       "  'slug': 'fc-dallas',\n",
       "  'shortName': 'Dallas',\n",
       "  'abbreviation': 'DAL',\n",
       "  'backgroundColor': '#C6093B',\n",
       "  'logoBWSlug': 'webcomp_9b1db6aa-aa95-4901-b073-e32d8b96dcf6',\n",
       "  'logoColorSlug': 'webcomp_952ed4bd-9e84-4856-bf34-aaf9a93cf7f0',\n",
       "  'logoColorUrl': 'https://images.mlssoccer.com/image/upload/{formatInstructions}/v1614970753/assets/logos/1903-fc-dallas-logo_zf5uiy.png',\n",
       "  'crestColorSlug': 'webcomp_dcf0913b-409a-4570-a7a0-cf786351a1cd'},\n",
       " 'venue': {'venueSportecId': 'MLS-STA-00000C',\n",
       "  'backgroundImageSlug': '',\n",
       "  'name': '',\n",
       "  'city': ''},\n",
       " 'season': {'slug': 'major-league-soccer-regular-season-2025',\n",
       "  'optaId': 2025,\n",
       "  'competitionId': 98,\n",
       "  'name': '2025'},\n",
       " 'competition': {'optaId': 98,\n",
       "  'name': 'MLS Regular Season',\n",
       "  'slug': 'mls-regular-season',\n",
       "  'shortName': 'Regular Season',\n",
       "  'matchType': 'Regular',\n",
       "  'logoLight': {'slug': ''},\n",
       "  'logoDark': {'slug': ''},\n",
       "  'blockHeaderName': '',\n",
       "  'mgmId': '',\n",
       "  'playerHeadshotThumbnailField': ''},\n",
       " 'broadcasters': [{'broadcasterTypeLabel': '',\n",
       "   'broadcasterName': 'Apple TV - MLS Season Pass',\n",
       "   'broadcasterStreamingURL': 'https://tv.apple.com/channel/tvs.sbd.7000',\n",
       "   'broadcasterType': 'International Streaming'},\n",
       "  {'broadcasterTypeLabel': 'Canadian TV',\n",
       "   'broadcasterName': 'TSN',\n",
       "   'broadcasterStreamingURL': '',\n",
       "   'broadcasterType': 'Canada TV'},\n",
       "  {'broadcasterTypeLabel': 'Canadian TV',\n",
       "   'broadcasterName': 'RDS',\n",
       "   'broadcasterStreamingURL': '',\n",
       "   'broadcasterType': 'Canada TV'}],\n",
       " 'sponsorImage': {},\n",
       " 'matchDate': '2025-10-19T01:00:00.0000000Z',\n",
       " 'firstPartyTickets': {'url': '', 'openInNewTab': False, 'isVisible': False},\n",
       " 'hotelBooking': {'url': 'https://www.ihg.com/redirect?path=hotelsearchresults&brandCode=6C&destination=BC%20Place%20&checkInMonthYear=092025&checkInDate=18&checkOutDate=19&checkOutMonthYear=092025',\n",
       "  'openInNewTab': True,\n",
       "  'isVisible': False},\n",
       " 'thirdPartyTickets': {'url': 'https://www.ticketmaster.ca/event/110062261B03283E?brand=mls&wt.mc_id=MLS_LEAGUE_VAN_SCHED_PG_GM17&utm_source=mlssoccer.com&utm_medium=client&utm_campaign=MLS_LEAGUE&utm_content=VAN_SCHED_PG_GM17',\n",
       "  'openInNewTab': True,\n",
       "  'isVisible': False},\n",
       " 'tags': [{'type': 'tag',\n",
       "   '_translationId': '706cd908-bf68-40c8-8ffe-2e8344dbd93b',\n",
       "   '_entityId': 'b29b5158-d202-436e-bad0-dc2ea2e5bfb3',\n",
       "   'selfUrl': 'https://forge-dapi.mls-prd.deltatre.digital/v2/content/en-us/tags/sportecid-2-sportcache',\n",
       "   'title': 'SportecId 2 Sportcache',\n",
       "   'slug': 'sportecid-2-sportcache',\n",
       "   'neutralSlug': 'sportecid-2-sportcache',\n",
       "   'externalSourceReference': {},\n",
       "   'fields': {}}],\n",
       " 'homeClubBroadcasters': [],\n",
       " 'awayClubBroadcasters': [],\n",
       " 'clubBroadcasters': [],\n",
       " 'isTimeTbd': False,\n",
       " 'mgmId': '',\n",
       " 'appleStreamURL': 'https://tv.apple.com/sporting-event/vancouver-whitecaps-fc-vs-fc-dallas/umc.cse.3xzzi5o3wwmata7pndlp93hs1?itscg=30200&itsct=tv_box_link&mttnsubad=umc.cse.3xzzi5o3wwmata7pndlp93hs1',\n",
       " 'appleSubscriptionTier': '',\n",
       " 'appleAdvertisementCategory': '',\n",
       " 'roundName': '',\n",
       " 'competitionPhase': '',\n",
       " 'homeClubRank': '',\n",
       " 'awayClubRank': '',\n",
       " 'roundNumber': 0,\n",
       " 'roundGroup': '',\n",
       " 'matchDay': '39',\n",
       " 'delayedMatch': False}"
      ]
     },
     "execution_count": 7,
     "metadata": {},
     "output_type": "execute_result"
    }
   ],
   "source": [
    "data[-1] # Get the last match"
   ]
  }
 ],
 "metadata": {
  "kernelspec": {
   "display_name": "env",
   "language": "python",
   "name": "python3"
  },
  "language_info": {
   "codemirror_mode": {
    "name": "ipython",
    "version": 3
   },
   "file_extension": ".py",
   "mimetype": "text/x-python",
   "name": "python",
   "nbconvert_exporter": "python",
   "pygments_lexer": "ipython3",
   "version": "3.11.7"
  }
 },
 "nbformat": 4,
 "nbformat_minor": 2
}
